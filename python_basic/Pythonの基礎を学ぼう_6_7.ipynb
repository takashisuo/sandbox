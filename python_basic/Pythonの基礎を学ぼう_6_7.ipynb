{
  "cells": [
    {
      "cell_type": "markdown",
      "metadata": {
        "id": "bDdVVRBoSQdJ"
      },
      "source": [
        "# 6章: 配列（リスト・タプル・セット）を理解しよう"
      ]
    },
    {
      "cell_type": "markdown",
      "metadata": {
        "id": "AkY8-ro8SQdN"
      },
      "source": [
        "## リスト"
      ]
    },
    {
      "cell_type": "code",
      "execution_count": null,
      "metadata": {
        "id": "QquU4fFnSQdO"
      },
      "outputs": [],
      "source": [
        "user_names: list[str] = [\"侍太郎\", \"侍一郎\", \"侍二郎\", \"侍三郎\", \"侍四郎\"]\n",
        "user_ages: list[int]  = [36, 33, 29, 25, 22]"
      ]
    },
    {
      "cell_type": "code",
      "execution_count": null,
      "metadata": {
        "id": "AOEX9y0cSQdP"
      },
      "outputs": [],
      "source": [
        "# indexは0から振られる。以下はuser_namesの2番目の要素を取得する。\n",
        "# 2番目の要素である「侍一郎」という文字列だけを取り出して表示する\n",
        "print(f\"2番目の要素は {user_names[1]} です\")"
      ]
    },
    {
      "cell_type": "code",
      "execution_count": null,
      "metadata": {
        "id": "v-j4sh4VSQdQ"
      },
      "outputs": [],
      "source": [
        "# すべての要素を取り出して表示する\n",
        "print(user_names)"
      ]
    },
    {
      "cell_type": "code",
      "execution_count": null,
      "metadata": {
        "id": "Y1rbbSh_SQdQ"
      },
      "outputs": [],
      "source": [
        "# 2番目の要素を更新する\n",
        "user_names[1] = \"侍花子\"\n",
        "print(user_names)"
      ]
    },
    {
      "cell_type": "code",
      "execution_count": null,
      "metadata": {
        "id": "AFWWnM7bSQdR"
      },
      "outputs": [],
      "source": [
        "# 要素を追加・削除する方法\n",
        "\n",
        "# 元のリストの末尾(6番目)の要素を追加する\n",
        "user_names.append(\"侍五郎\")\n",
        "print(user_names)\n",
        "\n",
        "# 3番目の要素を削除する\n",
        "user_names.pop(2) # 0始まりのため、3番目のインデックスは2\n",
        "print(user_names)"
      ]
    },
    {
      "cell_type": "code",
      "execution_count": null,
      "metadata": {
        "id": "rj3ZGa3KSQdR"
      },
      "outputs": [],
      "source": [
        "# 元のリストを保持しつつ別のリストに代入する場合はcopyを使うことで元のリストを汚さない\n",
        "user_names_add: list = user_names.copy()\n",
        "user_names_add.append(\"追加太郎\")\n",
        "print(f\"user_names: {user_names}\")\n",
        "print(f\"add user_names: {user_names_add}\")"
      ]
    },
    {
      "cell_type": "markdown",
      "metadata": {
        "id": "tXuZ22euSQdR"
      },
      "source": [
        "## Tuple(タプル)"
      ]
    },
    {
      "cell_type": "code",
      "execution_count": null,
      "metadata": {
        "id": "QswXfTBFSQdS"
      },
      "outputs": [],
      "source": [
        "country_names: tuple[str] = (\"日本\", \"アメリカ\", \"イギリス\", \"フランス\" )\n",
        "print(country_names[2])"
      ]
    },
    {
      "cell_type": "code",
      "execution_count": null,
      "metadata": {
        "id": "RDAsFsXBSQdS"
      },
      "outputs": [],
      "source": [
        "print(country_names)\n",
        "print(type(country_names))"
      ]
    },
    {
      "cell_type": "code",
      "execution_count": null,
      "metadata": {
        "id": "Un6Ni14WSQdS"
      },
      "outputs": [],
      "source": [
        "country_names[0] = \"NG\""
      ]
    },
    {
      "cell_type": "markdown",
      "metadata": {
        "id": "aD7Uxe7-SQdT"
      },
      "source": [
        "## set"
      ]
    },
    {
      "cell_type": "code",
      "execution_count": null,
      "metadata": {
        "id": "l4jVvsNQSQdT"
      },
      "outputs": [],
      "source": [
        "# 1～10までに含まれる素数のセット\n",
        "prime_numbers: set[int] = {6, 2, 3, 5, 7}\n",
        "print(prime_numbers)\n"
      ]
    },
    {
      "cell_type": "code",
      "execution_count": null,
      "metadata": {
        "id": "NyQkkNYSSQdT"
      },
      "outputs": [],
      "source": [
        "# 1～10までに含まれる素数のセット（2と5が重複）\n",
        "prime_numbers: set[int] = {2, 5, 2, 7, 3, 5, 5 }\n",
        "\n",
        "# セット全体を表示\n",
        "print(prime_numbers)"
      ]
    },
    {
      "cell_type": "code",
      "execution_count": null,
      "metadata": {
        "id": "t2EEKhvVSQdU"
      },
      "outputs": [],
      "source": [
        "# 1～10までに含まれる素数のセット\n",
        "prime_numbers = {2, 3, 5, 7}\n",
        "\n",
        "# セット全体を表示\n",
        "print(prime_numbers)\n",
        "\n",
        "prime_numbers.add(11) # 11をセットに追加\n",
        "print(f\"追加した場合: {prime_numbers}\")\n",
        "\n",
        "prime_numbers.remove(3) # セットから3を削除\n",
        "print(f\"3という値を削除した場合: {prime_numbers}\")"
      ]
    },
    {
      "cell_type": "code",
      "execution_count": null,
      "metadata": {
        "id": "3m1LbThFSQdU"
      },
      "outputs": [],
      "source": [
        "# 6.8 setを使ってみよう\n",
        "\n",
        "country_names = {\"アメリカ\", \"イギリス\", \"日本\", \"フランス\"}\n",
        "\n",
        "# セット全体を表示\n",
        "print(country_names)\n",
        "\n",
        "country_names.add(\"ドイツ\") # 「ドイツ」をセットに追加\n",
        "print(country_names)\n",
        "\n",
        "country_names.remove(\"イギリス\") # セットから「イギリス」を削除\n",
        "print(country_names)"
      ]
    },
    {
      "cell_type": "markdown",
      "source": [
        "# 7章 連想配列（ディクショナリ）を理解しよう"
      ],
      "metadata": {
        "id": "5cw47R84T0vH"
      }
    },
    {
      "cell_type": "code",
      "source": [
        "stationery_prices: dict[str, int] = {\"鉛筆\": 70, \"ボールペン\": 120, \"シャープペンシル\": 150, \"消しゴム\": 90}\n",
        "print(stationery_prices)\n",
        "print(type(stationery_prices))"
      ],
      "metadata": {
        "id": "_2I7FahOScbM"
      },
      "execution_count": null,
      "outputs": []
    },
    {
      "cell_type": "code",
      "source": [
        "# キー「2」が重複している\n",
        "sports = {1: \"サッカー\", 2: \"野球\", 2: \"バドミントン\", 3: \"バスケット\"}\n",
        "print(sports)"
      ],
      "metadata": {
        "id": "_u2G10-BUozj"
      },
      "execution_count": null,
      "outputs": []
    },
    {
      "cell_type": "code",
      "source": [
        "stationery_prices = {\"鉛筆\": 70, \"ボールペン\": 120, \"シャープペンシル\": 150, \"消しゴム\": 90}\n",
        "\n",
        "# ボールペンの価格を取り出して表示\n",
        "print(stationery_prices[\"ボールペン\"])"
      ],
      "metadata": {
        "id": "7gItNGgBXJQJ"
      },
      "execution_count": null,
      "outputs": []
    },
    {
      "cell_type": "code",
      "source": [
        "sports = {1: \"サッカー\", 2: \"野球\", 3: \"バスケット\"}\n",
        "\n",
        "# キー「2」の値を「バドミントン」に書き換える\n",
        "sports[2] = \"バドミントン\"\n",
        "\n",
        "# キー「4」として「水泳」を追加する\n",
        "sports[4] = \"水泳\"\n",
        "\n",
        "# 連想配列全体を取り出して表示\n",
        "print(sports)\n"
      ],
      "metadata": {
        "id": "NsPGxudWXPOW"
      },
      "execution_count": null,
      "outputs": []
    },
    {
      "cell_type": "code",
      "source": [
        "# 削除(pop)の例\n",
        "stationery_prices = {\"鉛筆\": 70, \"ボールペン\": 120, \"シャープペンシル\": 150, \"消しゴム\": 90}\n",
        "\n",
        "# 「シャープペンシル」を要素ごと削除\n",
        "stationery_prices.pop(\"シャープペンシル\")\n",
        "\n",
        "# 連想配列全体を取り出して表示\n",
        "print(stationery_prices)\n"
      ],
      "metadata": {
        "id": "E9VAsdeQZS_u"
      },
      "execution_count": null,
      "outputs": []
    },
    {
      "cell_type": "code",
      "source": [
        "# 連想配列を作成\n",
        "personal_data = {\"name\": \"侍太郎\", \"age\": 36, \"gender\": \"男性\"}\n",
        "\n",
        "# キー「name」の値を表示\n",
        "print(personal_data[\"name\"])\n",
        "\n",
        "# 連想配列全体を表示\n",
        "print(personal_data)\n",
        "\n",
        "# キー「age」の値を更新\n",
        "personal_data[\"age\"] = 37\n",
        "\n",
        "# 新しく要素（キーと値）を追加\n",
        "personal_data[\"address\"] = \"東京都\"\n",
        "\n",
        "# 連想配列全体を表示\n",
        "print(personal_data)"
      ],
      "metadata": {
        "id": "1tZLMrX1ZnIE"
      },
      "execution_count": null,
      "outputs": []
    },
    {
      "cell_type": "markdown",
      "source": [],
      "metadata": {
        "id": "fOuBqwu4kv4Q"
      }
    },
    {
      "cell_type": "markdown",
      "source": [
        "# 課題: リスト/ディクショナリを使いこなそう"
      ],
      "metadata": {
        "id": "BpATtIWak2Ln"
      }
    },
    {
      "cell_type": "markdown",
      "source": [
        "# 課題後の実践1:\n",
        "1. python-basic-kadaiリポジトリ内にpractice_07_01フォルダを作成しそこに格納する\n",
        "1. リストに整数・浮動小数点数・文字列をそれぞれ格納してください。その結果をprintしてください。\n",
        "1. リストに入れた各値を変数に格納し、それぞれの型(type)をprintしてください。\n",
        "\n",
        "\n"
      ],
      "metadata": {
        "id": "J-JmR3tOlIag"
      }
    },
    {
      "cell_type": "code",
      "source": [
        "my_list = [42, 3.14, \"hello\"]\n",
        "print(my_list)\n",
        "\n",
        "int_value = my_list[0]\n",
        "float_value = my_list[1]\n",
        "str_value = my_list[2]\n",
        "\n",
        "print(type(int_value))\n",
        "print(type(float_value))\n",
        "print(type(str_value))"
      ],
      "metadata": {
        "id": "W9db5Yg6mk-J"
      },
      "execution_count": null,
      "outputs": []
    },
    {
      "cell_type": "markdown",
      "source": [
        "# 課題後の実践2:\n",
        "1. python-basic-kadaiリポジトリ内にpractice_07_02フォルダを作成しそこに格納する\n",
        "1. リストに数値データ(1,2,3,4,5)を格納し、最初と最後のインデックスを指して値を変数に格納してください。\n",
        "1. その結果をprint(f)を用いて出力してください。\n"
      ],
      "metadata": {
        "id": "TU20UHif8_TQ"
      }
    },
    {
      "cell_type": "code",
      "source": [
        "my_list = [1, 2, 3, 4, 5]\n",
        "first = my_list[0]\n",
        "last = my_list[-1]\n",
        "\n",
        "# 問題2\n",
        "print(f\"最初の値は{first}、最後の値は{last}です\")"
      ],
      "metadata": {
        "id": "nvIlU_Pwk7f-"
      },
      "execution_count": null,
      "outputs": []
    },
    {
      "cell_type": "markdown",
      "source": [
        "\n",
        "# 課題後の実践3:\n",
        "1. python-basic-kadaiリポジトリ内にpractice_07_03フォルダを作成しそこに格納する\n",
        "1. 空のリストを定義してください。任意の文字列データを4つ変数へ格納してください。それらの変数をリストへ追加してください。その後、最初のデータを削除してください。その結果をprint(f)を用いて出力してください。\n"
      ],
      "metadata": {
        "id": "Cxu8cFtD9BtE"
      }
    },
    {
      "cell_type": "code",
      "source": [
        "# 1. 空のリストを定義\n",
        "my_list = []\n",
        "\n",
        "# 任意の文字列データを4つ変数へ格納\n",
        "str1 = \"Apple\"\n",
        "str2 = \"Banana\"\n",
        "str3 = \"Cherry\"\n",
        "str4 = \"Durian\"\n",
        "\n",
        "# 変数をリストへ追加\n",
        "my_list.append(str1)\n",
        "my_list.append(str2)\n",
        "my_list.append(str3)\n",
        "my_list.append(str4)\n",
        "\n",
        "# 最初のデータを削除\n",
        "my_list.pop(0)\n",
        "\n",
        "# 結果を出力\n",
        "print(f\"リストの中身は{my_list}です\")"
      ],
      "metadata": {
        "id": "3Dt7nXcG9FFX"
      },
      "execution_count": null,
      "outputs": []
    },
    {
      "cell_type": "markdown",
      "source": [
        "\n",
        "# 課題後の実践4:\n",
        "1. python-basic-kadaiリポジトリ内にpractice_07_04フォルダを作成しそこに格納する\n",
        "1. tupleに4つ値を格納してください。そこから最初と最後の値を変数に格納し、print(f)で出力してください。\n",
        "1. tupleの型(type)を出力してください。\n"
      ],
      "metadata": {
        "id": "nnHkj35H9FjS"
      }
    },
    {
      "cell_type": "code",
      "source": [
        "# 問題1\n",
        "my_tuple = (10, 20, 30, 40)\n",
        "first_value = my_tuple[0]\n",
        "last_value = my_tuple[-1]\n",
        "print(f\"最初の値は{first_value}、最後の値は{last_value}です\")\n",
        "\n",
        "# 問題2\n",
        "print(type(my_tuple))"
      ],
      "metadata": {
        "id": "XL3j_nZL9G3D"
      },
      "execution_count": null,
      "outputs": []
    },
    {
      "cell_type": "markdown",
      "source": [
        "\n",
        "# 課題後の実践5:\n",
        "1. python-basic-kadaiリポジトリ内にpractice_07_05フォルダを作成しそこに格納する\n",
        "1. setに数値データ: 1, 3, 6, 9, 6, 10, 11, 1, 3, 12, 10, 9を格納し、要素数を出力してください。\n",
        "    1. 要素数はそのままカウントしてもよいですし、len()という関数を使ってもよいです。\n",
        "    1. 参考) 実務ではlenを多用します。\n",
        "1. setに文字列データ: 'A', 'B', 'C', 'D', 'E'を5つ登録してください。このsetに'Z'を追加してください。その後、'A'を削除してください。その結果をprint(f)を用いて書式で出力してください\n"
      ],
      "metadata": {
        "id": "lgLJ3ZyR9HDG"
      }
    },
    {
      "cell_type": "code",
      "source": [
        "# 問題1\n",
        "my_set = {1, 3, 6, 9, 6, 10, 11, 1, 3, 12, 10, 9}\n",
        "print(f\"setの要素数: {len(my_set)}\")\n",
        "\n",
        "# 問題2\n",
        "string_set = set(['A', 'B', 'C', 'D', 'E'])\n",
        "string_set.add('Z')\n",
        "string_set.remove('A')\n",
        "print(f\"文字列setの中身: {string_set}\")"
      ],
      "metadata": {
        "id": "By4enqhW9Iek"
      },
      "execution_count": null,
      "outputs": []
    },
    {
      "cell_type": "markdown",
      "source": [
        "\n",
        "# 課題後の実践6(応用):\n",
        "1. python-basic-kadaiリポジトリ内にpractice_07_06フォルダを作成しそこに格納する\n",
        "1. 空のlistを定義してください。そのlistに対して、任意の値を格納したset, 任意の値を格納したtuple, 任意の値を格納したlist, 任意のdictionaryを追加してください。そのlistをprint(f)を用いて出力してください。\n",
        "1. (続き) 3番目の値を変数に格納し、typeを確認してください。"
      ],
      "metadata": {
        "id": "xhoKIftp9Int"
      }
    },
    {
      "cell_type": "code",
      "source": [
        "# 問題1\n",
        "my_list = []\n",
        "\n",
        "# setを追加\n",
        "my_set = {10, 20, 30}\n",
        "my_list.append(my_set)\n",
        "\n",
        "# tupleを追加\n",
        "my_tuple = (40, 50, 60)\n",
        "my_list.append(my_tuple)\n",
        "\n",
        "# listを追加\n",
        "nested_list = [70, 80, 90]\n",
        "my_list.append(nested_list)\n",
        "\n",
        "# dictionaryを追加\n",
        "my_dict = {'a': 1, 'b': 2, 'c': 3}\n",
        "my_list.append(my_dict)\n",
        "\n",
        "print(f\"my_listの中身: {my_list}\")\n",
        "\n",
        "# 問題2\n",
        "third_value = my_list[2]\n",
        "print(f\"3番目の値: {third_value}\")\n",
        "print(f\"3番目の値の型: {type(third_value)}\")"
      ],
      "metadata": {
        "id": "tAB-OO3U9Jxn"
      },
      "execution_count": null,
      "outputs": []
    }
  ],
  "metadata": {
    "kernelspec": {
      "display_name": "samurai",
      "language": "python",
      "name": "python3"
    },
    "language_info": {
      "codemirror_mode": {
        "name": "ipython",
        "version": 3
      },
      "file_extension": ".py",
      "mimetype": "text/x-python",
      "name": "python",
      "nbconvert_exporter": "python",
      "pygments_lexer": "ipython3",
      "version": "3.11.8"
    },
    "colab": {
      "provenance": [],
      "collapsed_sections": [
        "bDdVVRBoSQdJ"
      ]
    }
  },
  "nbformat": 4,
  "nbformat_minor": 0
}